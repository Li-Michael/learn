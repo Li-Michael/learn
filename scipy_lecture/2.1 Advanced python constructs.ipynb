{
 "cells": [
  {
   "cell_type": "markdown",
   "metadata": {},
   "source": [
    "# 2.1 Advanced Python Constructs\n",
    "## 2.1.1 Iterators, generator expressions and generators\n",
    "### 2.1.1.1 Iterators\n",
    "An iterator is an object adhering to the iterator protocol-basically this means that it has a next method, which, when called, returns the next item in the sequence, and when there's nothing to return, raises the **StopIteration** exception.\n",
    "An iterator object allows to loop just once. It holds the state (position) of a single iteration, or from the other side, each loop over a sequence requires a single iterator object. This means that we can iterate over the same sequence more than once concurrently. Seperating the iteration logic from the sequence allows us to have more than one way of iteration.\n",
    "Calling the __iter__ method on a containrer to create an iterator object is the most straightforward way to get hold of an iterator. The **iter** function does that for us, saving a few keystrokes."
   ]
  },
  {
   "cell_type": "code",
   "execution_count": 1,
   "metadata": {},
   "outputs": [
    {
     "data": {
      "text/plain": [
       "<listiterator at 0x7fc9c01ff490>"
      ]
     },
     "execution_count": 1,
     "metadata": {},
     "output_type": "execute_result"
    }
   ],
   "source": [
    "nums = [1, 2, 3]\n",
    "iter(nums)"
   ]
  },
  {
   "cell_type": "code",
   "execution_count": 2,
   "metadata": {},
   "outputs": [
    {
     "data": {
      "text/plain": [
       "<listiterator at 0x7fc9c01ff350>"
      ]
     },
     "execution_count": 2,
     "metadata": {},
     "output_type": "execute_result"
    }
   ],
   "source": [
    "nums.__iter__()"
   ]
  },
  {
   "cell_type": "code",
   "execution_count": 3,
   "metadata": {},
   "outputs": [
    {
     "data": {
      "text/plain": [
       "<listreverseiterator at 0x7fc9c01ff050>"
      ]
     },
     "execution_count": 3,
     "metadata": {},
     "output_type": "execute_result"
    }
   ],
   "source": [
    "nums.__reversed__()"
   ]
  },
  {
   "cell_type": "code",
   "execution_count": 4,
   "metadata": {},
   "outputs": [],
   "source": [
    "it = iter(nums)"
   ]
  },
  {
   "cell_type": "code",
   "execution_count": 5,
   "metadata": {},
   "outputs": [
    {
     "data": {
      "text/plain": [
       "1"
      ]
     },
     "execution_count": 5,
     "metadata": {},
     "output_type": "execute_result"
    }
   ],
   "source": [
    "next(it)"
   ]
  },
  {
   "cell_type": "markdown",
   "metadata": {},
   "source": [
    "When used in a loop, StopIteration is swallowed and causes the loop to finish. But with explicit invocation, we can see that once the iterator is exhausted, accessing it raises an exception."
   ]
  },
  {
   "cell_type": "code",
   "execution_count": 6,
   "metadata": {},
   "outputs": [
    {
     "data": {
      "text/plain": [
       "True"
      ]
     },
     "execution_count": 6,
     "metadata": {},
     "output_type": "execute_result"
    }
   ],
   "source": [
    "f = open('/etc/fstab')\n",
    "f is f.__iter__()"
   ]
  },
  {
   "cell_type": "markdown",
   "metadata": {},
   "source": [
    "### 2.1.1.2 Generator expressions\n",
    "A second way in which iterator objects are created is through generator expressions, the basis for list comprehensions. To increase clarity, a generator expression must always be enclosed in parentheses or an expression. If round parentheses are used, then a generator iterator is created. If rectangular parentheses are used, the process is short-circuited and we get a list."
   ]
  },
  {
   "cell_type": "code",
   "execution_count": 7,
   "metadata": {},
   "outputs": [
    {
     "data": {
      "text/plain": [
       "<generator object <genexpr> at 0x7fc9c01dc910>"
      ]
     },
     "execution_count": 7,
     "metadata": {},
     "output_type": "execute_result"
    }
   ],
   "source": [
    "(i for i in nums)"
   ]
  },
  {
   "cell_type": "code",
   "execution_count": 8,
   "metadata": {},
   "outputs": [
    {
     "data": {
      "text/plain": [
       "[1, 2, 3]"
      ]
     },
     "execution_count": 8,
     "metadata": {},
     "output_type": "execute_result"
    }
   ],
   "source": [
    "[i for i in nums]"
   ]
  },
  {
   "cell_type": "code",
   "execution_count": 9,
   "metadata": {},
   "outputs": [
    {
     "data": {
      "text/plain": [
       "[1, 2, 3]"
      ]
     },
     "execution_count": 9,
     "metadata": {},
     "output_type": "execute_result"
    }
   ],
   "source": [
    "list(i for i in nums)"
   ]
  },
  {
   "cell_type": "code",
   "execution_count": 10,
   "metadata": {},
   "outputs": [
    {
     "data": {
      "text/plain": [
       "{0, 1, 2}"
      ]
     },
     "execution_count": 10,
     "metadata": {},
     "output_type": "execute_result"
    }
   ],
   "source": [
    "# extends to dictionary and set comprehensions\n",
    "{i for i in range(3)}"
   ]
  },
  {
   "cell_type": "code",
   "execution_count": 11,
   "metadata": {},
   "outputs": [
    {
     "data": {
      "text/plain": [
       "{0: 0, 1: 1, 2: 4}"
      ]
     },
     "execution_count": 11,
     "metadata": {},
     "output_type": "execute_result"
    }
   ],
   "source": [
    "{i:i**2 for i in range(3)}"
   ]
  },
  {
   "cell_type": "markdown",
   "metadata": {},
   "source": [
    "### 2.1.1.3 Generators\n",
    "A third way to create iterator objects is to call a generator function. A **generator** is a function containing the keyword yield. It must be noted that the mere presence of this keyword completely changes the nature of the function: this yield statement doesn't have to be invoked, or even reachable, but causes the function to be marked as a generator. When a normal function is called, the instructions contained in the body start to be executed. When a generator is called the execution stops before teh first instruction in the body. An invocation of a generator function creates a generator object, adhering to the iterator protocol. As with normal function invocations, concurrent and recursive invocations are allowed.\n",
    "When next is called, the function is executed until the first yield. Each encountered **yield** statement gives a value becomes the return value of next. After executing the yield statement, teh execution of this function is suspended. "
   ]
  },
  {
   "cell_type": "code",
   "execution_count": 12,
   "metadata": {},
   "outputs": [],
   "source": [
    "def f():\n",
    "    yield 1\n",
    "    yield 2"
   ]
  },
  {
   "cell_type": "code",
   "execution_count": 13,
   "metadata": {},
   "outputs": [
    {
     "data": {
      "text/plain": [
       "<generator object f at 0x7fc9c01dc6e0>"
      ]
     },
     "execution_count": 13,
     "metadata": {},
     "output_type": "execute_result"
    }
   ],
   "source": [
    "f()"
   ]
  },
  {
   "cell_type": "code",
   "execution_count": 14,
   "metadata": {},
   "outputs": [
    {
     "data": {
      "text/plain": [
       "1"
      ]
     },
     "execution_count": 14,
     "metadata": {},
     "output_type": "execute_result"
    }
   ],
   "source": [
    "gen = f()\n",
    "next(gen)"
   ]
  },
  {
   "cell_type": "code",
   "execution_count": 15,
   "metadata": {},
   "outputs": [
    {
     "data": {
      "text/plain": [
       "2"
      ]
     },
     "execution_count": 15,
     "metadata": {},
     "output_type": "execute_result"
    }
   ],
   "source": [
    "next(gen)"
   ]
  },
  {
   "cell_type": "code",
   "execution_count": 16,
   "metadata": {},
   "outputs": [],
   "source": [
    "def f():\n",
    "    print('-- start --')\n",
    "    yield 3\n",
    "    print('-- middle --')\n",
    "    yield 4\n",
    "    print('-- finished --')"
   ]
  },
  {
   "cell_type": "code",
   "execution_count": 17,
   "metadata": {},
   "outputs": [
    {
     "name": "stdout",
     "output_type": "stream",
     "text": [
      "-- start --\n"
     ]
    },
    {
     "data": {
      "text/plain": [
       "3"
      ]
     },
     "execution_count": 17,
     "metadata": {},
     "output_type": "execute_result"
    }
   ],
   "source": [
    "gen = f()\n",
    "next(gen)"
   ]
  },
  {
   "cell_type": "code",
   "execution_count": 18,
   "metadata": {},
   "outputs": [
    {
     "name": "stdout",
     "output_type": "stream",
     "text": [
      "-- middle --\n"
     ]
    },
    {
     "data": {
      "text/plain": [
       "4"
      ]
     },
     "execution_count": 18,
     "metadata": {},
     "output_type": "execute_result"
    }
   ],
   "source": [
    "next(gen)"
   ]
  },
  {
   "cell_type": "markdown",
   "metadata": {},
   "source": [
    "### 2.1.1.4 Bidirectional communication\n",
    "Each yield statement causes a value to be passed to the caller. This is the reason for the introduction of generators by PEP 255. But communication in the reverse direction is also useful. One obvious way would be some external state, either a global variable or a shared mutable object. \n",
    "The first of the new methods is send(value), which is similar to **next()**, but passes value into the generator to be used for the value of the yield expression. In fact, g.next() and g.send(None) are equivalent.\n",
    "The second of the new methods is throw(type, value=None, traceback=None) which is equivalent to:"
   ]
  },
  {
   "cell_type": "raw",
   "metadata": {},
   "source": [
    "raise type, value, traceback"
   ]
  },
  {
   "cell_type": "code",
   "execution_count": 30,
   "metadata": {},
   "outputs": [],
   "source": [
    "import itertools\n",
    "def g():\n",
    "    print('-- start --')\n",
    "    for i in itertools.count():\n",
    "        print('-- yielding %i --' %i)\n",
    "        try:\n",
    "            ans = yield i\n",
    "        except GeneratorExit:\n",
    "            print('-- closing --')\n",
    "            raise\n",
    "        except Exception as e:\n",
    "            print('-- yield raised %r --' %e)\n",
    "        else:\n",
    "            print('-- yield returned %s--' %ans)"
   ]
  },
  {
   "cell_type": "code",
   "execution_count": 31,
   "metadata": {},
   "outputs": [
    {
     "name": "stdout",
     "output_type": "stream",
     "text": [
      "-- closing --\n",
      "-- yielding 4 --\n",
      "-- start --\n",
      "-- yielding 0 --\n"
     ]
    },
    {
     "name": "stderr",
     "output_type": "stream",
     "text": [
      "Exception RuntimeError: 'generator ignored GeneratorExit' in <generator object g at 0x7fc9c017ca50> ignored\n"
     ]
    },
    {
     "data": {
      "text/plain": [
       "0"
      ]
     },
     "execution_count": 31,
     "metadata": {},
     "output_type": "execute_result"
    }
   ],
   "source": [
    "it = g()\n",
    "next(it)"
   ]
  },
  {
   "cell_type": "code",
   "execution_count": 32,
   "metadata": {},
   "outputs": [
    {
     "name": "stdout",
     "output_type": "stream",
     "text": [
      "-- yield returned 11--\n",
      "-- yielding 1 --\n"
     ]
    },
    {
     "data": {
      "text/plain": [
       "1"
      ]
     },
     "execution_count": 32,
     "metadata": {},
     "output_type": "execute_result"
    }
   ],
   "source": [
    "it.send(11)"
   ]
  },
  {
   "cell_type": "code",
   "execution_count": 33,
   "metadata": {},
   "outputs": [
    {
     "name": "stdout",
     "output_type": "stream",
     "text": [
      "-- yield raised IndexError() --\n",
      "-- yielding 2 --\n"
     ]
    },
    {
     "data": {
      "text/plain": [
       "2"
      ]
     },
     "execution_count": 33,
     "metadata": {},
     "output_type": "execute_result"
    }
   ],
   "source": [
    "it.throw(IndexError)"
   ]
  },
  {
   "cell_type": "code",
   "execution_count": 34,
   "metadata": {},
   "outputs": [
    {
     "name": "stdout",
     "output_type": "stream",
     "text": [
      "-- closing --\n"
     ]
    }
   ],
   "source": [
    "it.close()"
   ]
  },
  {
   "cell_type": "markdown",
   "metadata": {},
   "source": [
    "### 2.1.1.5 Chaining generators\n",
    "Let's say we are writing a generator and we want to yield a number of values generated by a second generator, a subgenerator. If yielding of values is the only concern, this can be performed without much difficulty using a loop such as:\n",
    "```\n",
    "subgen = some_other_generator()\n",
    "for v in subgen:\n",
    "    yield v\n",
    "```\n",
    "\n",
    "The **yield** statement has to be guarded by a try...except...finally structure similar to the one defined in the previous section to \"debug\" the generator function. It suffices to say that new syntax to properly yield from a subgenerator is being introduced in Python3.3:\n",
    "```\n",
    "yield from some_other_generator()\n",
    "```"
   ]
  },
  {
   "cell_type": "markdown",
   "metadata": {},
   "source": [
    "## 2.1.2 Decorators\n",
    "Since functions and classes are objects, they can be passed around. Since they are mutable objects, they can be modified. The act of altering a function or class object after it has been constructed but before is bound to its name is called decorating.\n",
    "\n",
    "There are two things hiding behind the name \"decorator\"--one is the function which does the work of decorating, i.e. performs the real woek, and the other one is the expression adhering to the decorator syntax, i.e. an at-symbol and the name of the decorating function.\n",
    "Function can be decorated by using the decorator syntax for functions:\n",
    "```\n",
    "@decorator\n",
    "def function():\n",
    "    pass\n",
    "```\n",
    "* A function is defined in the standard way.\n",
    "* An expression starting with @ placed before the function definition is the decorator. The part after @ must be a simple expression, usually this is just the name of a function or class. This part is evaluated first, and after the function defined below is ready, the decorator is called with the newly defined function object as the single argument. The value returned by the decorator is attached to the original name of the function.\n",
    "\n",
    "The example above is quivalent to:\n",
    "```\n",
    "def function():\n",
    "    pass\n",
    "function = decoration(function)\n",
    "```\n"
   ]
  },
  {
   "cell_type": "markdown",
   "metadata": {},
   "source": [
    "### 2.1.2.1 Replacing or tweaking the original object\n",
    "Decorators can either return the same function or class object or they can return a completely different object. In the first case, the decorator can exploit the fact that function and class objects are mutable and add attributes, e.g. add a docstring to a class.\n",
    "\n",
    "### 2.1.2.2 Decorators implemented as classes and as functions\n",
    "The only requirement on decorators is that they can be with a single argument. This means that decorators can be implemented as normal functions, or as clsses with a __call__ method, or in theory, even as lambda functions.\n",
    "\n",
    "Let's compare the function and class approaches. The decorator expression(the part after @) can be either just a name, or a call. The bare-name approach is nice(less to type, looks cleaner, etc.), but is only possible when no arguments are needed to customise the decorator. Decorator written as functions can be used in those two cases:"
   ]
  },
  {
   "cell_type": "code",
   "execution_count": 37,
   "metadata": {},
   "outputs": [
    {
     "name": "stdout",
     "output_type": "stream",
     "text": [
      "doing decoration\n"
     ]
    }
   ],
   "source": [
    "def simple_decorator(function):\n",
    "    print('doing decoration')\n",
    "    return function\n",
    "\n",
    "@simple_decorator\n",
    "def function():\n",
    "    print('inside function')\n"
   ]
  },
  {
   "cell_type": "code",
   "execution_count": 38,
   "metadata": {},
   "outputs": [
    {
     "name": "stdout",
     "output_type": "stream",
     "text": [
      "inside function\n"
     ]
    }
   ],
   "source": [
    "function()"
   ]
  },
  {
   "cell_type": "code",
   "execution_count": 41,
   "metadata": {},
   "outputs": [
    {
     "name": "stdout",
     "output_type": "stream",
     "text": [
      "defining the decorator\n",
      "doing decoration, 'abc'\n"
     ]
    }
   ],
   "source": [
    "def decorator_with_arguments(arg):\n",
    "    print('defining the decorator')\n",
    "    def _decorator(function):\n",
    "        # in this inner function, arg is avaiable too\n",
    "        print('doing decoration, %r' % arg)\n",
    "        return function\n",
    "    return _decorator\n",
    "\n",
    "@decorator_with_arguments('abc')\n",
    "def function():\n",
    "    print('inside function')"
   ]
  },
  {
   "cell_type": "code",
   "execution_count": 42,
   "metadata": {},
   "outputs": [
    {
     "name": "stdout",
     "output_type": "stream",
     "text": [
      "inside function\n"
     ]
    }
   ],
   "source": [
    "function()"
   ]
  },
  {
   "cell_type": "markdown",
   "metadata": {},
   "source": [
    "The two trivial decorators above fall into the category of decorators which return the original function. If they were to return a new function, an extra level of nestedness would be required. In the worst case, three levels of nested functions."
   ]
  },
  {
   "cell_type": "code",
   "execution_count": 44,
   "metadata": {},
   "outputs": [
    {
     "name": "stdout",
     "output_type": "stream",
     "text": [
      "defining the decorator\n",
      "doing decorator, 'abc'\n"
     ]
    }
   ],
   "source": [
    "def replacing_decorator_with_args(arg):\n",
    "    print('defining the decorator')\n",
    "    def _decorator(function):\n",
    "        # in this inner function, arg is available too\n",
    "        print('doing decorator, %r' %arg)\n",
    "        def _wrapper(*args, **kwargs):\n",
    "            print('inside wrapper, %r %r' %(args, kwargs))\n",
    "            return function(*args, **kwargs)\n",
    "        return _wrapper\n",
    "    return _decorator\n",
    "\n",
    "@replacing_decorator_with_args('abc')\n",
    "def function(*args, **kwargs):\n",
    "    print('inside function, %r %r' %(args, kwargs))\n",
    "    return 14"
   ]
  },
  {
   "cell_type": "code",
   "execution_count": 45,
   "metadata": {},
   "outputs": [
    {
     "name": "stdout",
     "output_type": "stream",
     "text": [
      "inside wrapper, (11, 12) {}\n",
      "inside function, (11, 12) {}\n"
     ]
    },
    {
     "data": {
      "text/plain": [
       "14"
      ]
     },
     "execution_count": 45,
     "metadata": {},
     "output_type": "execute_result"
    }
   ],
   "source": [
    "function(11, 12)"
   ]
  },
  {
   "cell_type": "markdown",
   "metadata": {},
   "source": [
    "The _wrapper function is defined to accept all positional and keyword arguments. In general we cannot know what arguments the decorated function is supposed to accept, so the wrapper function just passes everything to the wrapped function. One unfortunate consequence is that the apparent argument list is misleading.\n",
    "\n",
    "Compared to decorators defined as functions, complex decorators defined as classes are simpler. When an object is created, the **\\_\\_init\\_\\_** method is only allowed to return None, and the type of the created object cannot be changed. This means that when a decorator is defined as a class, it doesn't make much sense to use the argument-less form: the final decorated object would just be an instance of the decorating class, returned by the constructor call, which is not very usefull. Therefore it's enough to discuss class-based decorators where arguments are given in the decorator expression and the decorator **\\_\\_init\\_\\_** method is used for decorator construction. \n"
   ]
  },
  {
   "cell_type": "code",
   "execution_count": 48,
   "metadata": {},
   "outputs": [
    {
     "name": "stdout",
     "output_type": "stream",
     "text": [
      "in decorator init, foo\n"
     ]
    }
   ],
   "source": [
    "class decorator_class(object):\n",
    "    def __init__(self, arg):\n",
    "        # this method is called in the decorator expression\n",
    "        print('in decorator init, %s' % arg)\n",
    "        self.arg = arg\n",
    "    def __call__(self, function):\n",
    "        # this method is called to do the job\n",
    "        print('in decorator call, %s' % self.arg)\n",
    "        return function\n",
    "deco_instance = decorator_class('foo')"
   ]
  },
  {
   "cell_type": "code",
   "execution_count": 50,
   "metadata": {},
   "outputs": [
    {
     "name": "stdout",
     "output_type": "stream",
     "text": [
      "in decorator call, foo\n"
     ]
    }
   ],
   "source": [
    "@deco_instance\n",
    "def function(*args, **kwargs):\n",
    "    print('in function, %s %s' %(args, kwargs))"
   ]
  },
  {
   "cell_type": "code",
   "execution_count": 51,
   "metadata": {},
   "outputs": [
    {
     "name": "stdout",
     "output_type": "stream",
     "text": [
      "in function, () {}\n"
     ]
    }
   ],
   "source": [
    "function()"
   ]
  },
  {
   "cell_type": "code",
   "execution_count": 53,
   "metadata": {},
   "outputs": [],
   "source": [
    "class replacing_decorator_class(object):\n",
    "    def __init__(self, arg):\n",
    "        # this method is called in the decorator expression\n",
    "        print('in decorator init, %s' % arg)\n",
    "        self.arg = arg\n",
    "    def __call__(self, function):\n",
    "        # this method is called to do the job\n",
    "        print('in decorator call, %s' % self.arg)\n",
    "        self.function = function\n",
    "        return self._wrapper\n",
    "    def _wrapper(self, *args, **kwargs):\n",
    "        print('in the wrapper, %s %s' %(args, kwargs))\n",
    "        return self.function(*args, **kwargs)"
   ]
  },
  {
   "cell_type": "code",
   "execution_count": 54,
   "metadata": {},
   "outputs": [
    {
     "name": "stdout",
     "output_type": "stream",
     "text": [
      "in decorator init, foo\n"
     ]
    }
   ],
   "source": [
    "deco_instance = replacing_decorator_class('foo')"
   ]
  },
  {
   "cell_type": "code",
   "execution_count": 58,
   "metadata": {},
   "outputs": [
    {
     "name": "stdout",
     "output_type": "stream",
     "text": [
      "in decorator call, foo\n"
     ]
    }
   ],
   "source": [
    "@deco_instance\n",
    "def function(*args, **kwargs):\n",
    "    print('in function, %s %s'%(args, kwargs))\n",
    "    "
   ]
  },
  {
   "cell_type": "code",
   "execution_count": 59,
   "metadata": {},
   "outputs": [
    {
     "name": "stdout",
     "output_type": "stream",
     "text": [
      "in the wrapper, (11, 12) {}\n",
      "in function, (11, 12) {}\n"
     ]
    }
   ],
   "source": [
    "function(11, 12)"
   ]
  },
  {
   "cell_type": "markdown",
   "metadata": {},
   "source": [
    "### 2.1.2.3 Copying the docstring and other attributes of the original function\n",
    "When a new function is returned by the decorator to replace the originalfunction, an unfoutunate consequence is that the original function name, the original docstring, the original argument list are lost. Those attributes of teh original function can partially be 'transplanted' to the new function by setting **\\_\\_doc\\_\\_**(the docstring), **\\_\\_module\\_\\_** and **\\_\\_name\\_\\_** (the full name of the function), and **\\_\\_annotations\\_\\_** (extra information about arguments and the return value of the function available in Python 3). This can be done automatically by using **functools.update_wrapper**.\n",
    "\n",
    "```\n",
    "functools.update_wrapper(wrapper, wrapped)\n",
    "```\n",
    "\"Update a wrapper function to look like the wrapped function.\""
   ]
  },
  {
   "cell_type": "code",
   "execution_count": 61,
   "metadata": {},
   "outputs": [
    {
     "name": "stdout",
     "output_type": "stream",
     "text": [
      "defining the decorator\n",
      "doing decoration, 'abc'\n"
     ]
    }
   ],
   "source": [
    "import functools\n",
    "def replacing_decorator_with_args(arg):\n",
    "    print('defining the decorator')\n",
    "    def _decorator(function):\n",
    "        print('doing decoration, %r' % arg)\n",
    "        def _wrapper(*arg, **kwargs):\n",
    "            print('inside wrapper, %r %r' %(args, kwargs))\n",
    "            return function(*args, **kwargs)\n",
    "        return functools.update_wrapper(_wrapper, function)\n",
    "    return _decorator\n",
    "\n",
    "@replacing_decorator_with_args('abc')\n",
    "def function():\n",
    "    \"extensive documentation\"\n",
    "    print('inside function')\n",
    "    return 14"
   ]
  },
  {
   "cell_type": "markdown",
   "metadata": {},
   "source": [
    "One important thing is missing from the list of attributes which can be copied to the replacement function: the argument list. The default values for arguments can be modified through the **\\_\\_defaults\\_\\_**, **\\_\\_kwdefaults\\_\\_** attributes,  but unfortunately the argument list which will be confusing for the user of the function, but unfortunately the argument list itself cannot be set as an attribute."
   ]
  },
  {
   "cell_type": "markdown",
   "metadata": {},
   "source": [
    "### 2.1.2.4 Examples in the standard library\n",
    "First, it should be mentioned that there's a number of useful decorators available in the standard library. There are three decorators which really form a part of the language:\n",
    "* **classmethod** causes a method to become a \"class method\", which means that it can be invoked without creating an instance of the class. When a normal method is invoked, the interpreter inserts the instance object as the first positional parameter, `self`. When a class method is invoked, the class itself is given as the first parameter, often called `cls`.\n",
    "Class methods are still accessible through the class' namespace, so they don't pollute teh module's namespace. Class methods can be used to provide alternative constructors:"
   ]
  },
  {
   "cell_type": "code",
   "execution_count": 62,
   "metadata": {},
   "outputs": [],
   "source": [
    "class Array(object):\n",
    "    def __init__(self, data):\n",
    "        self.data = data\n",
    "    \n",
    "    @classmethod\n",
    "    def fromfile(cls, file):\n",
    "        data = numpy.load(file)\n",
    "        return cls(data)"
   ]
  },
  {
   "cell_type": "markdown",
   "metadata": {},
   "source": [
    "This is cleaner then using a multitude of flags to **\\_\\_init\\_\\_**.\n",
    "* **staticmethod** is applied to methods to make them \"static\", i.e. basically a normal funtion, but accessible through the class namespace. This can be useful when the function is only needed inside this class(its name would then be prefixed with _), or when we want the user to think of the method as connected to the class, despite an implementation which doesn't require this.\n",
    "* **property** is the pythonic answer to the problem of `getters` and setters. A method decorated with property becomes a getter which is automatically called on attribute access."
   ]
  },
  {
   "cell_type": "code",
   "execution_count": 64,
   "metadata": {},
   "outputs": [
    {
     "data": {
      "text/plain": [
       "<property at 0x7fc9c01228e8>"
      ]
     },
     "execution_count": 64,
     "metadata": {},
     "output_type": "execute_result"
    }
   ],
   "source": [
    "class A(object):\n",
    "    @property\n",
    "    def a(self):\n",
    "        \"an important attribute\"\n",
    "        return \"a value\"\n",
    "\n",
    "A.a"
   ]
  },
  {
   "cell_type": "code",
   "execution_count": 65,
   "metadata": {},
   "outputs": [
    {
     "data": {
      "text/plain": [
       "'a value'"
      ]
     },
     "execution_count": 65,
     "metadata": {},
     "output_type": "execute_result"
    }
   ],
   "source": [
    "A().a"
   ]
  },
  {
   "cell_type": "markdown",
   "metadata": {},
   "source": [
    "In this example, A.a is an read-only attribute. It is also documented: help(A) includes the docstring for attribute a taken from the getter method. "
   ]
  }
 ],
 "metadata": {
  "kernelspec": {
   "display_name": "Python 2",
   "language": "python",
   "name": "python2"
  },
  "language_info": {
   "codemirror_mode": {
    "name": "ipython",
    "version": 2
   },
   "file_extension": ".py",
   "mimetype": "text/x-python",
   "name": "python",
   "nbconvert_exporter": "python",
   "pygments_lexer": "ipython2",
   "version": "2.7.12"
  }
 },
 "nbformat": 4,
 "nbformat_minor": 2
}
