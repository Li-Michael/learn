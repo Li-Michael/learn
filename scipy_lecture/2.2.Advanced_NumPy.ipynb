{
 "cells": [
  {
   "cell_type": "markdown",
   "metadata": {},
   "source": [
    "# 2.2. Advanced NumPy\n",
    "NumPy is at the base of Python's scientific stack of tools. Its purpose to implement efficient operations on many items in a block of memory. Understanding how it works in detail helps in making efficient use of its flexibility, taking useful shortcuts.\n",
    "\n",
    "This section covers:\n",
    "* Anatomy of NumPy arrays, and its consequences. Tips and tricks.\n",
    "* Universal functions: what, why, and what to do if you want a new one.\n",
    "* Intergration with other tools: NumPy offers serveral ways to wrap any data in an ndarray, without unneecsary copies.\n",
    "* Recently added features, and what's in them: PEP 3118 buffers, generalized ufuncs,...\n",
    "\n",
    "Prerequisites:\n",
    "* NumPy\n",
    "* Cython\n",
    "* Pillow(Python imaging library, used in a couple of examples)\n",
    "\n",
    "[TOC]"
   ]
  },
  {
   "cell_type": "code",
   "execution_count": 1,
   "metadata": {},
   "outputs": [],
   "source": [
    "import numpy as np"
   ]
  },
  {
   "cell_type": "markdown",
   "metadata": {},
   "source": [
    "## 2.2.1 Life of ndarray\n",
    "### 2.2.1.1 It's\n",
    "ndarray=\n",
    "    block of memory + indexing scheme + data type descriptor\n",
    "\n",
    "* raw data\n",
    "* how to locate an element\n",
    "* how to interpret an element\n",
    "![](http://www.scipy-lectures.org/_images/threefundamental.png)\n",
    "\n",
    "```C\n",
    "typedef struct PyArrayObject {\n",
    "    PyObject_HEAD\n",
    "    \n",
    "    /* Block of memory */\n",
    "    char *data;\n",
    "    \n",
    "    /* Data type descriptor */\n",
    "    PyArray_Descr *descr;\n",
    "                              \n",
    "    /* Indexing scheme */\n",
    "    int nd;\n",
    "    npy_intp *dimensions;\n",
    "    npy_intp *strides;\n",
    "                      \n",
    "    /* Other stuff */\n",
    "    PyObject *base;\n",
    "    int flags;\n",
    "    PyObject *weakreflist;\n",
    "                              \n",
    "} PyArrayObject;\n",
    "```\n",
    "\n",
    "### 2.2.1.2 Block of memory"
   ]
  },
  {
   "cell_type": "code",
   "execution_count": 6,
   "metadata": {},
   "outputs": [
    {
     "data": {
      "text/plain": [
       "<read-write buffer for 0x7f1ec548fd00, size 12, offset 0 at 0x7f1ec5420670>"
      ]
     },
     "execution_count": 6,
     "metadata": {},
     "output_type": "execute_result"
    }
   ],
   "source": [
    "x = np.array([1, 2, 3], dtype=np.int32)\n",
    "x.data"
   ]
  },
  {
   "cell_type": "code",
   "execution_count": 7,
   "metadata": {},
   "outputs": [
    {
     "data": {
      "text/plain": [
       "'\\x01\\x00\\x00\\x00\\x02\\x00\\x00\\x00\\x03\\x00\\x00\\x00'"
      ]
     },
     "execution_count": 7,
     "metadata": {},
     "output_type": "execute_result"
    }
   ],
   "source": [
    "bytes(x.data)"
   ]
  },
  {
   "cell_type": "markdown",
   "metadata": {},
   "source": [
    "Memory address of the data:"
   ]
  },
  {
   "cell_type": "code",
   "execution_count": 8,
   "metadata": {},
   "outputs": [
    {
     "data": {
      "text/plain": [
       "40452720"
      ]
     },
     "execution_count": 8,
     "metadata": {},
     "output_type": "execute_result"
    }
   ],
   "source": [
    "x.__array_interface__['data'][0]"
   ]
  },
  {
   "cell_type": "code",
   "execution_count": 9,
   "metadata": {},
   "outputs": [
    {
     "data": {
      "text/plain": [
       "{'data': (40452720, False),\n",
       " 'descr': [('', '<i4')],\n",
       " 'shape': (3,),\n",
       " 'strides': None,\n",
       " 'typestr': '<i4',\n",
       " 'version': 3}"
      ]
     },
     "execution_count": 9,
     "metadata": {},
     "output_type": "execute_result"
    }
   ],
   "source": [
    "x.__array_interface__"
   ]
  },
  {
   "cell_type": "markdown",
   "metadata": {},
   "source": [
    "Reminder: two ndarrays may share the same memory:"
   ]
  },
  {
   "cell_type": "code",
   "execution_count": 10,
   "metadata": {},
   "outputs": [
    {
     "data": {
      "text/plain": [
       "array([9, 2, 3])"
      ]
     },
     "execution_count": 10,
     "metadata": {},
     "output_type": "execute_result"
    }
   ],
   "source": [
    "x = np.array([1, 2, 3, 4])\n",
    "y = x[:-1]\n",
    "x[0] = 9\n",
    "y"
   ]
  },
  {
   "cell_type": "code",
   "execution_count": 12,
   "metadata": {},
   "outputs": [
    {
     "data": {
      "text/plain": [
       "(<read-only buffer for 0x7f1ec542ead0, size 4, offset 0 at 0x7f1ec5441070>,\n",
       " True)"
      ]
     },
     "execution_count": 12,
     "metadata": {},
     "output_type": "execute_result"
    }
   ],
   "source": [
    "# Memory does not need to be owned by an ndarray:\n",
    "x = b'1234' # The 'b' is for \"bytes\", necessary in Python3\n",
    "\n",
    "# x is a string(in Python3 a bytes), we can represent its data as an array of ints:\n",
    "y = np.frombuffer(x, dtype=np.int8)\n",
    "y.data, y.base is x"
   ]
  },
  {
   "cell_type": "code",
   "execution_count": 13,
   "metadata": {},
   "outputs": [
    {
     "data": {
      "text/plain": [
       "  C_CONTIGUOUS : True\n",
       "  F_CONTIGUOUS : True\n",
       "  OWNDATA : False\n",
       "  WRITEABLE : False\n",
       "  ALIGNED : True\n",
       "  WRITEBACKIFCOPY : False\n",
       "  UPDATEIFCOPY : False"
      ]
     },
     "execution_count": 13,
     "metadata": {},
     "output_type": "execute_result"
    }
   ],
   "source": [
    "y.flags"
   ]
  },
  {
   "cell_type": "markdown",
   "metadata": {},
   "source": [
    "### 2.2.1.3 Data types\n",
    "The descriptor\n",
    "dtype descripes a single item in teh array:\n",
    "```\n",
    "type       scalar type of the data, one of:\n",
    "           int8, int16, float64, et al.(fixed size)\n",
    "           str, unicode, void(flexible size)\n",
    "itemsize   size of the data block\n",
    "byteorder  byte order:big-endian > / little-endian < / not applicable |\n",
    "fields     sub-dtypes, if it's a structured data type\n",
    "shape      shape of the array, if it's a sub-array\n",
    "```"
   ]
  },
  {
   "cell_type": "code",
   "execution_count": 15,
   "metadata": {},
   "outputs": [
    {
     "data": {
      "text/plain": [
       "(numpy.int64, 8, '=')"
      ]
     },
     "execution_count": 15,
     "metadata": {},
     "output_type": "execute_result"
    }
   ],
   "source": [
    "np.dtype(int).type, np.dtype(int).itemsize, np.dtype(int).byteorder"
   ]
  },
  {
   "cell_type": "markdown",
   "metadata": {},
   "source": [
    "#### Example: reading .wav files\n",
    "The .wav file header:\n",
    "```\n",
    "chunk_id      \"RIFF\"\n",
    "chunk_size    4-byte unsigned little-endian integer\n",
    "format        \"WAVE\"\n",
    "fmt_id        \"fmt\"\n",
    "fmt_size      4-byte unsigned little-endian integer\n",
    "audio_fmt     2-byte unsigned little-endian integer\n",
    "num_channels  2-byte unsigned little-endian integer\n",
    "sample_rate   4-byte unsigned little-endian integer\n",
    "byte_rate     4-byte unsigned little-endian integer\n",
    "block_align   2-byte unsigned little-endian integer\n",
    "bits_per_sample  2-byte unsigned little-endian integer\n",
    "data_id       \"data\"\n",
    "data_size     4-byte unsigned little-endian integer\n",
    "```\n",
    "\n",
    "* 44-byte block of raw data(in the beginning of the file)\n",
    "* ... followed by data_size bytes of actual sound data"
   ]
  },
  {
   "cell_type": "code",
   "execution_count": 16,
   "metadata": {},
   "outputs": [],
   "source": [
    "wav_header_dtype = np.dtype([\n",
    "    (\"chunk_id\", (bytes, 4)), # flexible-sized scalar type, item size 4\n",
    "    (\"chunk_size\", \"<u4\"),  # little-endian unsigned 32-bit integer\n",
    "    (\"format\", \"S4\"), # 4-byte string\n",
    "    (\"fmt_id\", \"S4\"),\n",
    "    (\"fmt_size\", \"<u4\"),\n",
    "    (\"audio_fmt\", \"<u2\"),\n",
    "    (\"num_channles\", \"<u2\"), # .. more of the same\n",
    "    (\"sample_rate\", \"<u4\"),\n",
    "    (\"byte_rate\", \"<u4\"),\n",
    "    (\"block_align\", \"<u2\"),\n",
    "    (\"bits_per_sample\", \"<u2\"),\n",
    "    (\"data_id\", (\"S1\", (2, 2))),  # sub-array, just for fun!\n",
    "    (\"data_size\", \"u4\"),\n",
    "    # the sound data itself cannot be represented here: it does not have a fixed size\n",
    "])"
   ]
  },
  {
   "cell_type": "code",
   "execution_count": 17,
   "metadata": {},
   "outputs": [
    {
     "data": {
      "text/plain": [
       "dtype('S4')"
      ]
     },
     "execution_count": 17,
     "metadata": {},
     "output_type": "execute_result"
    }
   ],
   "source": [
    "wav_header_dtype['format']"
   ]
  },
  {
   "cell_type": "code",
   "execution_count": 18,
   "metadata": {},
   "outputs": [
    {
     "data": {
      "text/plain": [
       "dict_proxy({'audio_fmt': (dtype('uint16'), 20),\n",
       "            'bits_per_sample': (dtype('uint16'), 34),\n",
       "            'block_align': (dtype('uint16'), 32),\n",
       "            'byte_rate': (dtype('uint32'), 28),\n",
       "            'chunk_id': (dtype('S4'), 0),\n",
       "            'chunk_size': (dtype('uint32'), 4),\n",
       "            'data_id': (dtype(('S1', (2, 2))), 36),\n",
       "            'data_size': (dtype('uint32'), 40),\n",
       "            'fmt_id': (dtype('S4'), 12),\n",
       "            'fmt_size': (dtype('uint32'), 16),\n",
       "            'format': (dtype('S4'), 8),\n",
       "            'num_channles': (dtype('uint16'), 22),\n",
       "            'sample_rate': (dtype('uint32'), 24)})"
      ]
     },
     "execution_count": 18,
     "metadata": {},
     "output_type": "execute_result"
    }
   ],
   "source": [
    "wav_header_dtype.fields"
   ]
  },
  {
   "cell_type": "code",
   "execution_count": 19,
   "metadata": {},
   "outputs": [
    {
     "data": {
      "text/plain": [
       "(dtype('S4'), 8)"
      ]
     },
     "execution_count": 19,
     "metadata": {},
     "output_type": "execute_result"
    }
   ],
   "source": [
    "wav_header_dtype.fields['format']"
   ]
  },
  {
   "cell_type": "markdown",
   "metadata": {},
   "source": [
    "* The first element is the sub-dtype in the structured data, corresponding to the name format\n",
    "* the second one is its offset(in bytes) from the beginning of the item"
   ]
  },
  {
   "cell_type": "markdown",
   "metadata": {},
   "source": [
    "### Exercise\n",
    "Mini-exercise, make a \"sparse\" dtype by using offsets, and only some of the fields:\n",
    "```Python\n",
    "wav_header_dtype = np.dtype(dict(\n",
    "    names=['format', 'sample_rate', 'data_id'],\n",
    "    offsets=[offset_1, offset_2, offset_3], # counted from start of structure in bytes\n",
    "    formates=list of dtypes for each of the fields,\n",
    "))\n",
    "```\n",
    "and use that to read the sample rate, and data_id(as sub-array)."
   ]
  },
  {
   "cell_type": "code",
   "execution_count": 24,
   "metadata": {},
   "outputs": [
    {
     "name": "stdout",
     "output_type": "stream",
     "text": [
      "[('RIFF', 17402, 'WAVE', 'fmt ', 16, 1, 1, 16000, 32000, 2, 16, [['d', 'a'], ['t', 'a']], 17366)]\n"
     ]
    }
   ],
   "source": [
    "f = open('data/test.wav', 'r')\n",
    "wav_header = np.fromfile(f, dtype=wav_header_dtype, count=1)\n",
    "f.close()\n",
    "print(wav_header)"
   ]
  },
  {
   "cell_type": "code",
   "execution_count": 25,
   "metadata": {},
   "outputs": [
    {
     "data": {
      "text/plain": [
       "array([16000], dtype=uint32)"
      ]
     },
     "execution_count": 25,
     "metadata": {},
     "output_type": "execute_result"
    }
   ],
   "source": [
    "wav_header['sample_rate']"
   ]
  },
  {
   "cell_type": "code",
   "execution_count": 26,
   "metadata": {},
   "outputs": [
    {
     "data": {
      "text/plain": [
       "array([[['d', 'a'],\n",
       "        ['t', 'a']]], dtype='|S1')"
      ]
     },
     "execution_count": 26,
     "metadata": {},
     "output_type": "execute_result"
    }
   ],
   "source": [
    "wav_header['data_id']"
   ]
  },
  {
   "cell_type": "code",
   "execution_count": 27,
   "metadata": {},
   "outputs": [
    {
     "data": {
      "text/plain": [
       "(1,)"
      ]
     },
     "execution_count": 27,
     "metadata": {},
     "output_type": "execute_result"
    }
   ],
   "source": [
    "wav_header.shape"
   ]
  },
  {
   "cell_type": "code",
   "execution_count": 28,
   "metadata": {},
   "outputs": [
    {
     "data": {
      "text/plain": [
       "(1, 2, 2)"
      ]
     },
     "execution_count": 28,
     "metadata": {},
     "output_type": "execute_result"
    }
   ],
   "source": [
    "wav_header['data_id'].shape"
   ]
  },
  {
   "cell_type": "markdown",
   "metadata": {},
   "source": [
    "When accessing sub-arrays, the dimensions get added to the end!\n",
    "**Note**: There are existing modules subh as `wavfile`,`audiolab`, etc. for loading sound data..."
   ]
  },
  {
   "cell_type": "markdown",
   "metadata": {},
   "source": [
    "### Casting and re-interpretation/views\n",
    "**casting**\n",
    "* on assignment\n",
    "* on array construction\n",
    "* on arithmetic\n",
    "* etc.\n",
    "* and manually: .astype(dtype)\n",
    "\n",
    "**data re-interpretation**\n",
    "* manually: .view(dtype)\n",
    "\n",
    "### Casting\n",
    "* Casting in arithmetic, in nutshell:\n",
    "    * only type(not value!) of operands matters\n",
    "    * largest \"safe\" type able to represent both is picked\n",
    "    * scalars can \"lose\" to arrays in some situations\n",
    "* Casting in general copies data:"
   ]
  },
  {
   "cell_type": "code",
   "execution_count": 29,
   "metadata": {},
   "outputs": [
    {
     "data": {
      "text/plain": [
       "array([1., 2., 3., 4.])"
      ]
     },
     "execution_count": 29,
     "metadata": {},
     "output_type": "execute_result"
    }
   ],
   "source": [
    "x = np.array([1, 2, 3, 4], dtype=np.float)\n",
    "x"
   ]
  },
  {
   "cell_type": "code",
   "execution_count": 32,
   "metadata": {},
   "outputs": [
    {
     "data": {
      "text/plain": [
       "array([1, 2, 3, 4], dtype=int8)"
      ]
     },
     "execution_count": 32,
     "metadata": {},
     "output_type": "execute_result"
    }
   ],
   "source": [
    "y = x.astype(np.int8)\n",
    "y"
   ]
  },
  {
   "cell_type": "code",
   "execution_count": 34,
   "metadata": {},
   "outputs": [
    {
     "data": {
      "text/plain": [
       "(array([2, 3, 4, 5], dtype=int8),\n",
       " array([257, 258, 259, 260], dtype=int16),\n",
       " array([257., 258., 259., 260.]))"
      ]
     },
     "execution_count": 34,
     "metadata": {},
     "output_type": "execute_result"
    }
   ],
   "source": [
    "y + 1, y + 256, y + 256.0"
   ]
  },
  {
   "cell_type": "code",
   "execution_count": 35,
   "metadata": {},
   "outputs": [
    {
     "data": {
      "text/plain": [
       "array([257, 258, 259, 260], dtype=int32)"
      ]
     },
     "execution_count": 35,
     "metadata": {},
     "output_type": "execute_result"
    }
   ],
   "source": [
    "y + np.array([256], dtype=np.int32)"
   ]
  },
  {
   "cell_type": "markdown",
   "metadata": {},
   "source": [
    "* Casting on setitem: dtype of the array is not changed non item assignment:"
   ]
  },
  {
   "cell_type": "code",
   "execution_count": 37,
   "metadata": {},
   "outputs": [
    {
     "data": {
      "text/plain": [
       "array([2, 3, 4, 5], dtype=int8)"
      ]
     },
     "execution_count": 37,
     "metadata": {},
     "output_type": "execute_result"
    }
   ],
   "source": [
    "y[:] = y + 1.5\n",
    "y"
   ]
  },
  {
   "cell_type": "markdown",
   "metadata": {},
   "source": [
    "### Re-interpretation / viewing\n",
    "* Data block in memory(4 bytes)\n",
    "\n",
    "    0x01 || 0x02 || 0x03 || 0x04\n",
    "\n",
    "    * 4 of uint8, OR\n",
    "    * 4 of int8, OR\n",
    "    * 2 of int16, OR\n",
    "    * 1 of int32, OR\n",
    "    * 1 of float32, OR\n",
    "    ...\n",
    "    \n",
    "How to switch from one to another?\n",
    "1. Switch the dtype:"
   ]
  },
  {
   "cell_type": "code",
   "execution_count": 40,
   "metadata": {},
   "outputs": [
    {
     "data": {
      "text/plain": [
       "(array([ 513, 1027], dtype=int16), 513, 1027)"
      ]
     },
     "execution_count": 40,
     "metadata": {},
     "output_type": "execute_result"
    }
   ],
   "source": [
    "x = np.array([1, 2, 3, 4], dtype=np.uint8)\n",
    "x.dtype = \"<i2\"\n",
    "x, 0x0201, 0x0403"
   ]
  },
  {
   "cell_type": "markdown",
   "metadata": {},
   "source": [
    "    0x01  0x02 || 0x03 0x04\n",
    "2. Create a new view:"
   ]
  },
  {
   "cell_type": "code",
   "execution_count": 42,
   "metadata": {},
   "outputs": [
    {
     "data": {
      "text/plain": [
       "(array([67305985], dtype=int32), 67305985)"
      ]
     },
     "execution_count": 42,
     "metadata": {},
     "output_type": "execute_result"
    }
   ],
   "source": [
    "y = x.view(\"<i4\")\n",
    "y, 0x04030201"
   ]
  },
  {
   "cell_type": "markdown",
   "metadata": {},
   "source": [
    "**Note**:\n",
    "* .view() makes views, does not copy (or alter) the memory block\n",
    "* only changes the dtype (and adjusts array shape)"
   ]
  },
  {
   "cell_type": "code",
   "execution_count": 44,
   "metadata": {},
   "outputs": [
    {
     "data": {
      "text/plain": [
       "(array([328193], dtype=int32), True)"
      ]
     },
     "execution_count": 44,
     "metadata": {},
     "output_type": "execute_result"
    }
   ],
   "source": [
    "x[1] = 5\n",
    "y, y.base is x"
   ]
  },
  {
   "cell_type": "markdown",
   "metadata": {},
   "source": [
    "**Mini-exersice: data re-interpretation**\n",
    "\n",
    "You have RGBA data in an array:"
   ]
  },
  {
   "cell_type": "code",
   "execution_count": 48,
   "metadata": {},
   "outputs": [],
   "source": [
    "x = np.zeros((10, 10, 4), dtype=np.int8)\n",
    "x[:, :, 0] = 1\n",
    "x[:, :, 1] = 2\n",
    "x[:, :, 2] = 3\n",
    "x[:, :, 3] = 4"
   ]
  },
  {
   "cell_type": "markdown",
   "metadata": {},
   "source": [
    "where the last three dimensions are the G,B and G, and alpha channels.\n",
    "\n",
    "How to make a (10, 10) structured array with field names 'r','g','b','a' without copying data?\n",
    "\n",
    "```\n",
    "y = ...\n",
    "assert (y['r'] == 1).all()\n",
    "assert (y['g'] == 2).all()\n",
    "assert (y['b'] == 3).all()\n",
    "assert (y['a'] == 4).all()\n",
    "```"
   ]
  },
  {
   "cell_type": "code",
   "execution_count": 54,
   "metadata": {},
   "outputs": [
    {
     "data": {
      "text/plain": [
       "array([[1, 2],\n",
       "       [3, 4]], dtype=uint8)"
      ]
     },
     "execution_count": 54,
     "metadata": {},
     "output_type": "execute_result"
    }
   ],
   "source": [
    "y = np.array([[1, 3], [2, 4]], dtype=np.uint8).transpose()\n",
    "x = y.copy()\n",
    "x, y"
   ]
  },
  {
   "cell_type": "code",
   "execution_count": 56,
   "metadata": {},
   "outputs": [
    {
     "data": {
      "text/plain": [
       "(array([[ 513],\n",
       "        [1027]], dtype=int16), 513, 1027)"
      ]
     },
     "execution_count": 56,
     "metadata": {},
     "output_type": "execute_result"
    }
   ],
   "source": [
    "x.view(np.int16), 0x0201, 0x0403"
   ]
  },
  {
   "cell_type": "code",
   "execution_count": 57,
   "metadata": {},
   "outputs": [
    {
     "name": "stderr",
     "output_type": "stream",
     "text": [
      "/usr/local/lib/python2.7/dist-packages/ipykernel_launcher.py:1: DeprecationWarning: Changing the shape of an F-contiguous array by descriptor assignment is deprecated. To maintain the Fortran contiguity of a multidimensional Fortran array, use 'a.T.view(...).T' instead\n",
      "  \"\"\"Entry point for launching an IPython kernel.\n"
     ]
    },
    {
     "data": {
      "text/plain": [
       "(array([[ 769, 1026]], dtype=int16), 769, 1026)"
      ]
     },
     "execution_count": 57,
     "metadata": {},
     "output_type": "execute_result"
    }
   ],
   "source": [
    "y.view(np.int16), 0x0301, 0x0402"
   ]
  },
  {
   "cell_type": "markdown",
   "metadata": {},
   "source": [
    "### 2.2.1.4 Indexing scheme: strides\n",
    "Main point\n",
    "\n",
    "The question:"
   ]
  },
  {
   "cell_type": "code",
   "execution_count": 59,
   "metadata": {},
   "outputs": [
    {
     "data": {
      "text/plain": [
       "'\\x01\\x02\\x03\\x04\\x05\\x06\\x07\\x08\\t'"
      ]
     },
     "execution_count": 59,
     "metadata": {},
     "output_type": "execute_result"
    }
   ],
   "source": [
    "x = np.array([[1, 2, 3],\n",
    "             [4, 5, 6],\n",
    "             [7, 8, 9]], dtype=np.int8)\n",
    "str(x.data)"
   ]
  },
  {
   "cell_type": "markdown",
   "metadata": {},
   "source": [
    "At which in ``x.data`` does the item ``x[1, 2]`` begin?\n",
    "\n",
    "The answer (in NumPy)\n",
    "* **strides**: the number of bytes to jump to find the next element\n",
    "* 1 stride per dimension"
   ]
  },
  {
   "cell_type": "code",
   "execution_count": 61,
   "metadata": {},
   "outputs": [
    {
     "data": {
      "text/plain": [
       "(3, 1)"
      ]
     },
     "execution_count": 61,
     "metadata": {},
     "output_type": "execute_result"
    }
   ],
   "source": [
    "x.strides"
   ]
  },
  {
   "cell_type": "code",
   "execution_count": 62,
   "metadata": {},
   "outputs": [
    {
     "data": {
      "text/plain": [
       "(6, 6)"
      ]
     },
     "execution_count": 62,
     "metadata": {},
     "output_type": "execute_result"
    }
   ],
   "source": [
    "byte_offset = 3*1 + 1*2  # to find x[1, 2]\n",
    "x.flat[byte_offset], x[1, 2]"
   ]
  },
  {
   "cell_type": "markdown",
   "metadata": {},
   "source": [
    "#### C and Fortran order"
   ]
  },
  {
   "cell_type": "code",
   "execution_count": 64,
   "metadata": {},
   "outputs": [
    {
     "data": {
      "text/plain": [
       "((6, 2), '\\x01\\x00\\x02\\x00\\x03\\x00\\x04\\x00\\x05\\x00\\x06\\x00')"
      ]
     },
     "execution_count": 64,
     "metadata": {},
     "output_type": "execute_result"
    }
   ],
   "source": [
    "x = np.array([[1, 2, 3], [4, 5, 6]], dtype=np.int16, order='C')\n",
    "x.strides, str(x.data)"
   ]
  },
  {
   "cell_type": "code",
   "execution_count": null,
   "metadata": {},
   "outputs": [],
   "source": []
  }
 ],
 "metadata": {
  "kernelspec": {
   "display_name": "Python 2",
   "language": "python",
   "name": "python2"
  },
  "language_info": {
   "codemirror_mode": {
    "name": "ipython",
    "version": 2
   },
   "file_extension": ".py",
   "mimetype": "text/x-python",
   "name": "python",
   "nbconvert_exporter": "python",
   "pygments_lexer": "ipython2",
   "version": "2.7.12"
  }
 },
 "nbformat": 4,
 "nbformat_minor": 2
}
